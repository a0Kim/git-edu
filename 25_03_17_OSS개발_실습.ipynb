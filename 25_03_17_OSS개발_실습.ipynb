{
  "nbformat": 4,
  "nbformat_minor": 0,
  "metadata": {
    "colab": {
      "provenance": [],
      "authorship_tag": "ABX9TyNKhWcu9dGDPruh4qIJ2kjm",
      "include_colab_link": true
    },
    "kernelspec": {
      "name": "python3",
      "display_name": "Python 3"
    },
    "language_info": {
      "name": "python"
    }
  },
  "cells": [
    {
      "cell_type": "markdown",
      "metadata": {
        "id": "view-in-github",
        "colab_type": "text"
      },
      "source": [
        "<a href=\"https://colab.research.google.com/github/a0Kim/git-edu/blob/main/25_03_17_OSS%EA%B0%9C%EB%B0%9C_%EC%8B%A4%EC%8A%B5.ipynb\" target=\"_parent\"><img src=\"https://colab.research.google.com/assets/colab-badge.svg\" alt=\"Open In Colab\"/></a>"
      ]
    },
    {
      "cell_type": "markdown",
      "source": [
        "# 지수값 구하기"
      ],
      "metadata": {
        "id": "Ww3QRZbZHH6Q"
      }
    },
    {
      "cell_type": "code",
      "execution_count": 9,
      "metadata": {
        "colab": {
          "base_uri": "https://localhost:8080/"
        },
        "id": "XssU0_b2GVPk",
        "outputId": "834da100-29b9-4aaf-8156-ebf66805a6be"
      },
      "outputs": [
        {
          "output_type": "execute_result",
          "data": {
            "text/plain": [
              "64"
            ]
          },
          "metadata": {},
          "execution_count": 9
        }
      ],
      "source": [
        "x=2\n",
        "\n",
        "x6=x*x*x*x*x*x\n",
        "x6"
      ]
    },
    {
      "cell_type": "markdown",
      "source": [
        "##계산을 원하는 값을 설정해주세요."
      ],
      "metadata": {
        "id": "Cy7AfnvHI6fz"
      }
    },
    {
      "cell_type": "code",
      "source": [
        "slider_value = 142  # @param {type: \"slider\", min: 100, max: 200}\n",
        "x = 108  # @param {type: \"number\"}\n",
        "y = 102  # @param {type: \"number\"}\n",
        "date = '2010-11-05'  # @param {type: \"date\"}\n",
        "pick_me = \"monday\"  # @param ['monday', 'tuesday', 'wednesday', 'thursday']\n",
        "select_or_input = \"apples\" # @param [\"apples\", \"bananas\", \"oranges\"] {allow-input: true}\n",
        "# @markdown ---\n"
      ],
      "metadata": {
        "id": "KnmzMOYxI-dU"
      },
      "execution_count": 10,
      "outputs": []
    },
    {
      "cell_type": "code",
      "source": [
        "x6=x*x*x*x*x*x\n",
        "x6\n",
        "\n",
        "if x6>20000000:\n",
        "  print(x6)\n",
        "else:\n",
        "  print(\"x6 is less than 20000\", x6)"
      ],
      "metadata": {
        "colab": {
          "base_uri": "https://localhost:8080/"
        },
        "id": "mlyolmUtJZ2F",
        "outputId": "6bf22cd7-f8bd-4fa4-e9dc-4da68b635b55"
      },
      "execution_count": 11,
      "outputs": [
        {
          "output_type": "stream",
          "name": "stdout",
          "text": [
            "1586874322944\n"
          ]
        }
      ]
    }
  ]
}